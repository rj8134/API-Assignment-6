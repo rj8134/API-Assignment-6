{
 "cells": [
  {
   "cell_type": "markdown",
   "id": "9a63f26a-149f-42d0-b373-13764fc3c8e5",
   "metadata": {},
   "source": [
    "# Q1. What is an API? Give an example, where an API is used in real life."
   ]
  },
  {
   "cell_type": "markdown",
   "id": "5548956c-a6be-4f3a-b953-72128b0f1138",
   "metadata": {},
   "source": [
    "An API acts as a mediator between users (clients) and resources (servers).\n",
    "An API, or application programming interface, is a set of defined rules that enable different applications to communicate with each other. It acts as an intermediary layer that processes data transfers between systems, letting companies open their application data and functionality to external third-party developers, business partners, and internal departments within their companies.\n",
    "\n",
    "Application Programming Interface (API) is a software interface that allows two applications to interact with each other without any user intervention. API is a collection of software functions and procedures. In simple terms, API means a software code that can be accessed or executed. API is defined as a code that helps two different software’s to communicate and exchange data with each other.\n",
    "\n",
    "It offers products or services to communicate with other products and services without having to know how they’re implemented."
   ]
  },
  {
   "cell_type": "markdown",
   "id": "f45b1022-409d-4237-8877-ad64172a2796",
   "metadata": {},
   "source": [
    "A simple way to understand how APIs work is to look at a common example—third-party payment processing. When a user purchases a product on an ecommerce site, they may be prompted to “Pay with Paypal” or another type of third-party system. This function relies on APIs to make the connection.\n",
    "\n",
    "When the buyer clicks the payment button, an API calls to retrieve information—also known as a request. This request is processed from an application to the web server via the API’s Uniform Resource Identifier (URI) and includes a request verb, headers, and sometimes, a request body.\n",
    " \n",
    "\n",
    "After receiving a valid request from the product webpage, the API makes a call to the external program or web server, in this case, the third-party payment system.\n",
    " \n",
    "\n",
    "The server sends a response to the API with the requested information.\n",
    " \n",
    "\n",
    "The API transfers the data to the initial requesting application, here the product website.\n",
    "\n",
    "While the data transfer will differ depending on the web service being used, the requests and responses all happen through an API. There is no visibility on the user interface, meaning APIs exchange data within the computer or application, and appear to the user as a seamless connection.\n"
   ]
  },
  {
   "cell_type": "markdown",
   "id": "e23f9bb6-e753-452e-8eeb-d3b3b537c1e9",
   "metadata": {},
   "source": [
    "# Q2.Give advantages and disadvantages of using API."
   ]
  },
  {
   "cell_type": "markdown",
   "id": "c656300d-85f3-42b9-af17-2b1da716a97c",
   "metadata": {},
   "source": [
    "Advantages:\n",
    "\n",
    "Increased Interoperability: API solutions enable different software systems to communicate with each other, regardless of their programming language or platform. This enhances the interoperability between systems, allowing for the exchange of data and functionality.\n",
    "\n",
    "Improved Efficiency: API driven infrastructures enable developers to reuse code and functionality from existing software systems, saving time and reducing the amount of code that needs to be written from scratch.\n",
    "\n",
    "Better User Experience: APIs can enable third-party developers to create applications that integrate with existing software systems, providing a better user experience and increased functionality.\n",
    "\n",
    "Increased Flexibility: APIs provide developers with greater flexibility, enabling them to choose the best programming languages and frameworks for their needs.\n",
    "\n",
    "New Revenue Streams: APIs can enable companies to create new revenue streams by providing third-party developers with access to their software systems.\n",
    "\n",
    "Disadvantages:\n",
    "Security Concerns: API infrastructures can be vulnerable to security breaches, such as SQL injection attacks and cross-site scripting (XSS) attacks, making it crucial to implement security measures to protect against these threats.\n",
    "\n",
    "Complexity: APIs can be complex, requiring a significant amount of development effort to implement and maintain.\n",
    "\n",
    "Compatibility Issues: APIs can have compatibility issues between different versions of the same software system or between different systems, which can lead to errors and system failures.\n",
    "\n",
    "Dependency on Third-Party Developers: APIs rely on third-party developers to create applications that integrate with the software system. This can create dependencies that are outside of the control of the company that owns the software system.\n",
    "\n",
    "Governance and Management: APIs require proper governance and management to ensure they are being used correctly and consistently across different applications and systems."
   ]
  },
  {
   "cell_type": "markdown",
   "id": "d24daea7-eb12-4c3e-89be-c9a889a59ff5",
   "metadata": {},
   "source": [
    "# Q3.What is a Web API? Differentiate between API and Web API."
   ]
  },
  {
   "cell_type": "markdown",
   "id": "61e62ad3-8b41-40dc-a7cc-6ff95adc8e59",
   "metadata": {},
   "source": [
    "A Web API is an application programming interface for the Web.\n",
    "A Web API is an application programming interface which is used either for web server or a web browser.\n",
    "\n",
    "API uses the TCP,SMTP and HTTP protocol.\n",
    "Web API uses the HTTP protocol only.\n",
    "\n",
    "Web API as the name suggests, is an API over the web which can be accessed using HTTP protocol. It is a concept and not a technology. We can build Web API using different technologies such as Java, .NET etc. For example, Twitter's REST APIs provide programmatic access to read and write data using which we can integrate twitter's capabilities into our own application"
   ]
  },
  {
   "cell_type": "markdown",
   "id": "27c80fb0-12e1-4a85-a648-81ed13537bf4",
   "metadata": {},
   "source": [
    "# Q4.Explain REST and SOAP Architecture. Mention shortcomings of SOAP."
   ]
  },
  {
   "cell_type": "markdown",
   "id": "df6a8ff4-7c40-4458-a96e-6412f5200c48",
   "metadata": {},
   "source": [
    "REST is the abbreviation of Representational State Transfer, a phrase coined in the year 2000 by Mr. Roy Fielding. It is a structural design approach for crafting loosely attached applications using HTTP, often implemented in the growth of web services. REST web services do not impose any rules concerning how it needs to be applied in practice at a low level; it only holds the high-level design guiding principles and leaves it to the developer to think about the implementation.\n",
    "In this architecture, a REST server provides connectivity to resources, which helps with client access as well as updating resources. In this, the resources are recognized by the URIs / Global IDs. REST API creates a variety of outputs to represent a resource, such as JSON - which is very popular among them all, text, XML formats. REST architecture-oriented web services are termed as RESTful web services.\n",
    "\n",
    "The REST architecture makes use of four commonly used HTTP methods. These are:\n",
    "\n",
    "Method\t                   Description\n",
    "GET\t            This method helps in offering read-only access for the resources.\n",
    "POST\t        This method is implemented for creating a new resource.\n",
    "DELETE\t        This method is implemented for removing a resource.\n",
    "PUT\t            This method is implemented for updating an existing resource or creating                 a fresh one.\n",
    "\n",
    "It is known for its simplicity,sclability and flexibility.\n",
    "It is less secure than SOAP.\n",
    "\n",
    "The World Wide Web may be regarded as a REST-based architecture. A RESTful architecture is built on the client-server paradigm, with stateless, cacheable communication between clients and servers. It’s important to note that REST is neither technology nor a standard but an architectural alternative to traditional RPC and SOAP. REST is a software architectural approach for creating distributed applications that can communicate via HTTP."
   ]
  },
  {
   "cell_type": "markdown",
   "id": "fe72d0a7-ada6-4ec9-ad72-a95ffb75e247",
   "metadata": {},
   "source": [
    "Simple Object Access Protocol(SOAP) is a network protocol for exchanging structured data between nodes. It uses XML format to transfer messages. It works on top of application layer protocols like HTML and SMTP for notations and transmission. SOAP allows processes to communicate throughout platforms, languages and operating systems, since protocols like HTTP are already installed on all platforms.\n",
    "SOAP was designed by Bob Atkinson, Don Box, Dave Winer, and Mohsen Al-Ghosein at Microsoft in 1998. SOAP was maintained by the XML Protocol Working Group of the World Wide Web Consortium until 2009.\n",
    "\n",
    "SOAP stands for Simple Object Access Protocol. SOAP is an XML based industry standard protocol for designing and developing web services. Since it’s XML based, it’s platform and language independent. So our server can be based on JAVA and client can be on .NET, PHP etc. and vice versa.\n",
    "SOAP web services have all the advantages that web services has, some of the additional advantages are:\n",
    "-   WSDL document provides contract and technical details of the web services for client applications without exposing the underlying implementation technologies.\n",
    "-   SOAP uses XML data for payload as well as contract, so it can be easily read by any technology.\n",
    "-   SOAP protocol is universally accepted, so it's an industry standard approach with many easily available open source implementations."
   ]
  },
  {
   "cell_type": "markdown",
   "id": "cabd882b-6dad-41d9-b844-048aa8af15b5",
   "metadata": {},
   "source": [
    "Some of the disadvantages of SOAP protocol are:\n",
    "-   Only XML can be used, JSON and other lightweight formats are not supported.\n",
    "-   SOAP is based on the contract, so there is a tight coupling between client and server applications.\n",
    "-   SOAP is slow because payload is large for a simple string message, since it uses XML format.\n",
    "-   Anytime there is change in the server side contract, client stub classes need to be generated again.\n",
    "-   Can't be tested easily in browser"
   ]
  },
  {
   "cell_type": "markdown",
   "id": "28b4d1f4-7361-4bbd-bdc1-a4d913f69835",
   "metadata": {},
   "source": [
    "# Q5.Differentiate between REST and SOAP."
   ]
  },
  {
   "cell_type": "markdown",
   "id": "b00d7c69-43b4-47f0-befa-18a8966c4409",
   "metadata": {},
   "source": [
    "SOAP and REST are two popular technologies to invoke web services. While SOAP is a protocol that defines a standard for communication between a server and a client using XML-based message exchange format, REST is an architectural style used to build lightweight services that can communicate over HTTP.\n",
    "\n",
    "Unlike SOAP web services, RESTful web services are stateless. SOAP web services can communicate only using XML, but RESTful web services can work with JSON, XML, HTML, and even plain text. SOAP requires much more bandwidth than REST."
   ]
  }
 ],
 "metadata": {
  "kernelspec": {
   "display_name": "Python 3 (ipykernel)",
   "language": "python",
   "name": "python3"
  },
  "language_info": {
   "codemirror_mode": {
    "name": "ipython",
    "version": 3
   },
   "file_extension": ".py",
   "mimetype": "text/x-python",
   "name": "python",
   "nbconvert_exporter": "python",
   "pygments_lexer": "ipython3",
   "version": "3.10.8"
  }
 },
 "nbformat": 4,
 "nbformat_minor": 5
}
